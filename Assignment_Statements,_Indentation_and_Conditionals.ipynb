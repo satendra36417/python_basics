{
  "nbformat": 4,
  "nbformat_minor": 0,
  "metadata": {
    "kernelspec": {
      "display_name": "Python 3",
      "language": "python",
      "name": "python3"
    },
    "language_info": {
      "codemirror_mode": {
        "name": "ipython",
        "version": 3
      },
      "file_extension": ".py",
      "mimetype": "text/x-python",
      "name": "python",
      "nbconvert_exporter": "python",
      "pygments_lexer": "ipython3",
      "version": "3.7.4"
    },
    "colab": {
      "provenance": [],
      "include_colab_link": true
    }
  },
  "cells": [
    {
      "cell_type": "markdown",
      "metadata": {
        "id": "view-in-github",
        "colab_type": "text"
      },
      "source": [
        "<a href=\"https://colab.research.google.com/github/satendra36417/python_basics/blob/main/Assignment_Statements%2C_Indentation_and_Conditionals.ipynb\" target=\"_parent\"><img src=\"https://colab.research.google.com/assets/colab-badge.svg\" alt=\"Open In Colab\"/></a>"
      ]
    },
    {
      "cell_type": "markdown",
      "metadata": {
        "id": "8WbUJEVzs8Bx"
      },
      "source": [
        "## <u>While doing this assignment only use those concepts which have been taught till now</u>"
      ]
    },
    {
      "cell_type": "markdown",
      "metadata": {
        "id": "KjPWYK0Rs8By"
      },
      "source": [
        "## <u>Problem 1</u>\n",
        "\n",
        "### As an analyst, you had to present the quarterly performance results of your client. The data which you were provided was on daily basis. To complete this task, you needed to extract the quarter from a given date. For example:\n",
        "\n",
        "* if the date lies between 1st Jan, 2020 - 31st March, 2020, you need to extract the corresponding quarter as '2020-Q1'\n",
        "\n",
        "* if the date lies between 1st April, 2020 - 30th June, 2020, the extracted quarter will be '2020-Q2'\n",
        "\n",
        "* if the date lies between 1st July, 2020 - 30th September, 2020, the extracted quarter will be '2020-Q3' \n",
        "\n",
        "* if the date lies between 1st October, 2020 - 31st Decemeber, 2020 then the extracted quarter will be '2020-Q4'\n"
      ]
    },
    {
      "cell_type": "code",
      "metadata": {
        "id": "RxVZTrenzfHC",
        "colab": {
          "base_uri": "https://localhost:8080/"
        },
        "outputId": "3183d76d-ae84-4b85-ef53-59d7c8f6d8d6"
      },
      "source": [
        "# Take a proper date input from the user in the format YYYY-MM-DD. Consider this date as a string\n",
        "user_date = input(\"Enter date in format YYYY-MM-DD\")"
      ],
      "execution_count": 1,
      "outputs": [
        {
          "name": "stdout",
          "output_type": "stream",
          "text": [
            "Enter date in format YYYY-MM-DD2020-07-07\n"
          ]
        }
      ]
    },
    {
      "cell_type": "code",
      "metadata": {
        "id": "N1Yhpkiws8B3"
      },
      "source": [
        "# Write your code using if else statements to extract the quarter\n",
        "date_year = int(user_date[0:4])\n",
        "date_month = int(user_date[5:7])\n",
        "if date_year==2020:\n",
        "  if date_month>=1 and date_month<=3:\n",
        "    q=\"Q1\"\n",
        "  elif date_month>=4 and date_month<=6:\n",
        "    q=\"Q2\"\n",
        "  elif date_month>=7 and date_month<=9:\n",
        "    q=\"Q3\"\n",
        "  else:\n",
        "    q=\"Q4\"\n",
        "else:\n",
        "  print(\"Wrong date\")\n",
        "\n",
        "# Store the quarter value in a string variable named quarter\n",
        "\n",
        "quarter=str(date_year)+\"-\"+q"
      ],
      "execution_count": 2,
      "outputs": []
    },
    {
      "cell_type": "code",
      "metadata": {
        "id": "KpMdlB5Fs8B8",
        "colab": {
          "base_uri": "https://localhost:8080/"
        },
        "outputId": "20930719-711f-4eb1-e6e2-b09cb28fcb8d"
      },
      "source": [
        "# Print the extracted quarter\n",
        "print(quarter)"
      ],
      "execution_count": 3,
      "outputs": [
        {
          "output_type": "stream",
          "name": "stdout",
          "text": [
            "2020-Q3\n"
          ]
        }
      ]
    },
    {
      "cell_type": "markdown",
      "metadata": {
        "id": "5qd8g8UUs8CM"
      },
      "source": [
        "## <u>Problem 2 </u>\n",
        "\n",
        "* You went out in your local neighbourhood to collect the data of people residing in the locale. You surveyed 5 people and collected some data and stored that in a dictionary. You recorded their names, their age, their sex, their heights(in cms) and their weights(in kgs)"
      ]
    },
    {
      "cell_type": "code",
      "metadata": {
        "id": "FBJy9Sq_s8CN"
      },
      "source": [
        "# Surveyed data \n",
        "\n",
        "locality_data = {'Name' : ['Abhinav','Sohail','Dheeraj','Rashmi','Vaishali'],\n",
        "                  'Age' : [42,29,35,28,32],\n",
        "                  'Sex' : ['Male', 'Male','Male','Female','Female'] , \n",
        "                  'Height' : [172,175,170,168,170],\n",
        "                  'Weight' : [70,82,60,55,64]\n",
        "                 }"
      ],
      "execution_count": 1,
      "outputs": []
    },
    {
      "cell_type": "markdown",
      "metadata": {
        "id": "2_rBSgqz5Ums"
      },
      "source": [
        "* Find the mean and median heights and weights of the people in your locality"
      ]
    },
    {
      "cell_type": "code",
      "metadata": {
        "id": "zywXa51d6Eev",
        "colab": {
          "base_uri": "https://localhost:8080/"
        },
        "outputId": "725ca7b9-4d75-45a6-ebeb-9f4620c3094b"
      },
      "source": [
        "# Calculate the mean height and print it\n",
        "\n",
        "mean_height=sum(locality_data[\"Height\"])/len(locality_data[\"Height\"])\n",
        "print(\"mean_height=\",mean_height)\n",
        "\n",
        "# Calculate the median height and print it\n",
        "sorted_height=sorted(locality_data[\"Height\"])\n",
        "term_count=len(sorted_height)\n",
        "if term_count%2==0:\n",
        "  median_height=(sorted_height[int(term_count/2) -1 ]+sorted_height[int(term_count/2) ])/2\n",
        "  print(\"median_height=\",median_height)\n",
        "else:\n",
        "  median_height=(sorted_height[int(term_count/2) -1 ])/2\n",
        "  print(\"median_height=\",median_height)\n",
        "  \n",
        "\n",
        "\n",
        "\n",
        "# Calculate the mean weight and print it\n",
        "mean_weight=sum(locality_data[\"Weight\"])/len(locality_data[\"Weight\"])\n",
        "print(\"mean_weight=\",mean_weight)\n",
        "\n",
        "\n",
        "# Calculate the median weight and print it\n",
        "sorted_weight=sorted(locality_data[\"Weight\"])\n",
        "term_countw=len(sorted_weight)\n",
        "if term_countw%2==0:\n",
        "  median_weight=(sorted_weight[int(term_countw/2) -1 ]+sorted_weight[int(term_countw/2) ])/2\n",
        "  print(\"median_weight=\",median_weight)\n",
        "else:\n",
        "  median_weight=(sorted_weight[int(term_countw/2) -1 ])/2\n",
        "  print(\"median_weight=\",median_weight)\n",
        "\n"
      ],
      "execution_count": 14,
      "outputs": [
        {
          "output_type": "stream",
          "name": "stdout",
          "text": [
            "mean_height= 171.0\n",
            "median_height= 85.0\n",
            "mean_weight= 66.2\n",
            "median_weight= 30.0\n"
          ]
        }
      ]
    },
    {
      "cell_type": "markdown",
      "metadata": {
        "id": "yLb5awgPQeYA"
      },
      "source": [
        "* Write a Python code to print the first three elements from the list of age values corresponding to the key 'Age'"
      ]
    },
    {
      "cell_type": "code",
      "metadata": {
        "id": "wef2fVgx6Gji",
        "colab": {
          "base_uri": "https://localhost:8080/"
        },
        "outputId": "5c952140-5e2a-4926-f9f5-4586b1573eac"
      },
      "source": [
        "# Python code to print the first three elements for the key 'Age'\n",
        "\n",
        "ages = locality_data[\"Age\"][0:3]\n",
        "print(ages)\n"
      ],
      "execution_count": 16,
      "outputs": [
        {
          "output_type": "stream",
          "name": "stdout",
          "text": [
            "[42, 29, 35]\n"
          ]
        }
      ]
    },
    {
      "cell_type": "markdown",
      "metadata": {
        "id": "NGrZaqulRIM1"
      },
      "source": [
        "* Write a Python code to print the last two elements of the name list if the list of values corresponding to the key 'Name' contains the element 'Rashmi' else print 'Name not found'"
      ]
    },
    {
      "cell_type": "code",
      "metadata": {
        "id": "TBRZzwAcRTNL",
        "colab": {
          "base_uri": "https://localhost:8080/"
        },
        "outputId": "d5ce7cc8-730f-494c-f08c-e20e2e83b4f4"
      },
      "source": [
        "# Your code below\n",
        "\n",
        "name=list(locality_data[\"Name\"])\n",
        "\n",
        "if \"Rashmi\" in name:\n",
        "  print(name[name.index(\"Rashmi\")][-2:])\n",
        "else:\n",
        "  print(\"Name not found\")\n",
        "\n"
      ],
      "execution_count": 38,
      "outputs": [
        {
          "output_type": "stream",
          "name": "stdout",
          "text": [
            "mi\n"
          ]
        }
      ]
    },
    {
      "cell_type": "markdown",
      "metadata": {
        "id": "ejRCi-vTs8CU"
      },
      "source": [
        "## <u> Problem 3 </u>\n",
        "\n",
        "A student will not be allowed to sit in exam if his/her attendence is less than 75%.\n",
        "\n",
        "Take following input from user\n",
        "* Number of classes held\n",
        "* Number of classes attended."
      ]
    },
    {
      "cell_type": "code",
      "metadata": {
        "id": "C5olNuDGs8CU",
        "colab": {
          "base_uri": "https://localhost:8080/"
        },
        "outputId": "b4c9b429-d67f-4693-f315-808ac5e32c73"
      },
      "source": [
        "# Enter your input\n",
        "\n",
        "print(\"Number of classes held\")\n",
        "classes_held = int(input())\n",
        "\n",
        "print(\"Number of classes attended\")\n",
        "classes_attended = int(input())"
      ],
      "execution_count": 27,
      "outputs": [
        {
          "name": "stdout",
          "output_type": "stream",
          "text": [
            "Number of classes held\n",
            "100\n",
            "Number of classes attended\n",
            "80\n"
          ]
        }
      ]
    },
    {
      "cell_type": "code",
      "metadata": {
        "id": "i553Hqamm2jR",
        "colab": {
          "base_uri": "https://localhost:8080/"
        },
        "outputId": "e272e15e-7276-4502-9f3d-1631b8ff2f0e"
      },
      "source": [
        "# Calculate the attendance percentage\n",
        "attendance = classes_attended*100/classes_held\n",
        "\n",
        "print(f'The attendance is {attendance}')"
      ],
      "execution_count": 28,
      "outputs": [
        {
          "output_type": "stream",
          "name": "stdout",
          "text": [
            "The attendance is 80.0\n"
          ]
        }
      ]
    },
    {
      "cell_type": "markdown",
      "metadata": {
        "id": "QYDpXSANnKxV"
      },
      "source": [
        "And print the following statements based on the condition above\n",
        "\n",
        "* percentage of class attended\n",
        "* Is student is allowed to sit in exam or not."
      ]
    },
    {
      "cell_type": "code",
      "metadata": {
        "id": "SoQ3P0yym2ts",
        "colab": {
          "base_uri": "https://localhost:8080/"
        },
        "outputId": "52820f71-8f57-4cbc-d77c-d19ee0558ec7"
      },
      "source": [
        "# Your code here \n",
        "if attendance<75:\n",
        "  print(\"Student is not allowed to sit in the exam\")\n",
        "else:\n",
        "  print(\"Student is allowed to sit in the exam\")\n"
      ],
      "execution_count": 29,
      "outputs": [
        {
          "output_type": "stream",
          "name": "stdout",
          "text": [
            "Student is allowed to sit in the exam\n"
          ]
        }
      ]
    },
    {
      "cell_type": "markdown",
      "metadata": {
        "id": "P1rOYC8Is8Cf"
      },
      "source": [
        "## <u>Problem 4</u>\n",
        "\n",
        "### A school has following rules for grading system:\n",
        "* Below 25 - F\n",
        "* 25 to 45 - E\n",
        "* 45 to 50 - D\n",
        "* 50 to 60 - C\n",
        "* 60 to 80 - B\n",
        "* Above 80 - A\n",
        "\n",
        "Keep the left number inclusive and the right number exclusive, something like [25,45) for grade E where the set is closed at 25 and open at 45.\n",
        "\n",
        "Write a Python code which takes marks as inputs from the user and print the corresponding grade."
      ]
    },
    {
      "cell_type": "code",
      "metadata": {
        "id": "ySeGyCtCs8Cg",
        "colab": {
          "base_uri": "https://localhost:8080/"
        },
        "outputId": "0cf1a575-97a3-49a9-beb5-6e26dd88e855"
      },
      "source": [
        "# Your input here \n",
        "print(\"Enter your marks\")\n",
        "marks = int(input())"
      ],
      "execution_count": 30,
      "outputs": [
        {
          "name": "stdout",
          "output_type": "stream",
          "text": [
            "Enter your marks\n",
            "65\n"
          ]
        }
      ]
    },
    {
      "cell_type": "code",
      "metadata": {
        "id": "MI7mOHaqs8Cj",
        "colab": {
          "base_uri": "https://localhost:8080/"
        },
        "outputId": "323d66b5-3ece-42ea-d952-f56d9539dd2e"
      },
      "source": [
        "# Your code here to print the corresponding grade\n",
        "if marks<25:\n",
        "  grade=\"F\"\n",
        "elif marks>=25 and marks<45:\n",
        "  grade=\"E\"\n",
        "elif marks>=45 and marks<50:\n",
        "  grade=\"D\"\n",
        "elif marks>=50 and marks<60:\n",
        "  grade=\"C\"\n",
        "elif marks>=60 and marks<80:\n",
        "  grade=\"B\"\n",
        "else:\n",
        "  grade=\"A\"\n",
        "\n",
        "print(\"Grade of user is : \",grade)"
      ],
      "execution_count": 32,
      "outputs": [
        {
          "output_type": "stream",
          "name": "stdout",
          "text": [
            "Grade of user is :  B\n"
          ]
        }
      ]
    }
  ]
}